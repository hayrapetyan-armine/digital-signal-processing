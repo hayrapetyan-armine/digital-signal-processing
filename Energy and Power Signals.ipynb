{
 "cells": [
  {
   "cell_type": "markdown",
   "metadata": {},
   "source": [
    "### What is a Signal?"
   ]
  },
  {
   "cell_type": "markdown",
   "metadata": {},
   "source": [
    "* Signal is a time varying physical phenomenon which is intended to convey information\n",
    "* Signal is a function of a time\n",
    "* Signal is a function of a one or more independent variables, which contain some information\n",
    "* **Example:** voice signal, video signal, signals or telephone wires, etc\n",
    "* **Note:** Noise is also a signal, but the information conveyed by noise is unwanted hence it is considered as undesirable"
   ]
  },
  {
   "cell_type": "markdown",
   "metadata": {},
   "source": [
    "### Types of Signals"
   ]
  },
  {
   "cell_type": "markdown",
   "metadata": {},
   "source": [
    "* Continuous-Time Signal and Discrete-Time Signal\n",
    "* Deterministic and Random Signal\n",
    "* Periodic Signal and aperiodic signal\n",
    "* Even and Odd Signal\n",
    "* Energy Signal & Power Signal"
   ]
  },
  {
   "cell_type": "markdown",
   "metadata": {},
   "source": [
    "### Energy Signals"
   ]
  },
  {
   "cell_type": "markdown",
   "metadata": {},
   "source": [
    "* A signal can be categorized into energy signal or power signal\n",
    "* An **energy signal** has a finite energy, 0 < E < infinity\n",
    "* In other words, energy signals have values only in the limited time duration\n",
    "* For example, a signal having only one square pulse is energy signal\n",
    "* A signal, that decays exponentially has finite energy, so, it is also an energy signal\n",
    "* The power of an energy signal is 0, because of dividing finite energy by infinite time (or length)"
   ]
  },
  {
   "cell_type": "markdown",
   "metadata": {},
   "source": [
    "### Power Signals"
   ]
  },
  {
   "cell_type": "markdown",
   "metadata": {},
   "source": [
    "* A **power signal** has finite power, 0 < P < infinity\n",
    "* A **power signal** is not limited in time\n",
    "* It always exists from beginning to end and it never ends\n",
    "* For example, sine wave in infinte length is power length\n",
    "* The power of an energy signal is 0, because of dividing finite energy by infinite time (or length)"
   ]
  },
  {
   "cell_type": "markdown",
   "metadata": {},
   "source": [
    "<img src=\"images/signal.jpg\">"
   ]
  },
  {
   "cell_type": "markdown",
   "metadata": {},
   "source": [
    "### Significance of energy and power signals"
   ]
  },
  {
   "cell_type": "markdown",
   "metadata": {},
   "source": [
    "* Energy is a measure of how much work can be done without any consideration of how long it takes to accomplish the work. Power is a measure of how quickly the work is done so it is a time-dependent function\n",
    "* The difference between energy and power is that power may be measured at any point in time, while energy has to be measured during a certain time period such as a second or an hour\n",
    "* If work is the transfer of energy, power is the rate at which energy is being transferred from one object to another or converted from one to another\n",
    "* Within a system the amount of energy is constant. Energy can be neither created nor destroyed. However, it can be transferred from one form to another"
   ]
  },
  {
   "cell_type": "markdown",
   "metadata": {},
   "source": [
    "### Important Points"
   ]
  },
  {
   "cell_type": "markdown",
   "metadata": {},
   "source": [
    "* A signal cannot be both, energy and power simultaneously. Also, a signal may be neither energy nor power signal\n",
    "* Generally periodic signals are power signals\n",
    "* Generally aperiodic signals are energy signals\n",
    "* Power of energy signal is 0\n",
    "* Energy of power signal is infinity"
   ]
  },
  {
   "cell_type": "code",
   "execution_count": null,
   "metadata": {},
   "outputs": [],
   "source": []
  }
 ],
 "metadata": {
  "kernelspec": {
   "display_name": "Python 3",
   "language": "python",
   "name": "python3"
  },
  "language_info": {
   "codemirror_mode": {
    "name": "ipython",
    "version": 3
   },
   "file_extension": ".py",
   "mimetype": "text/x-python",
   "name": "python",
   "nbconvert_exporter": "python",
   "pygments_lexer": "ipython3",
   "version": "3.6.2"
  }
 },
 "nbformat": 4,
 "nbformat_minor": 2
}
